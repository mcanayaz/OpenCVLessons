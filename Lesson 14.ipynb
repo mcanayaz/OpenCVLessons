{
 "cells": [
  {
   "cell_type": "code",
   "execution_count": 1,
   "id": "610251eb",
   "metadata": {},
   "outputs": [],
   "source": [
    "#Hough Transform \n",
    "#Çizgi belirleme\n"
   ]
  },
  {
   "cell_type": "code",
   "execution_count": 1,
   "id": "b1de6211",
   "metadata": {},
   "outputs": [
    {
     "data": {
      "text/plain": [
       "True"
      ]
     },
     "execution_count": 1,
     "metadata": {},
     "output_type": "execute_result"
    }
   ],
   "source": [
    "# Python program to illustrate HoughLine\n",
    "# method for line detection\n",
    "import cv2\n",
    "import numpy as np\n",
    "\n",
    "#Resim okuma\n",
    "img = cv2.imread('images/soduku.jpg')\n",
    "\n",
    "# CGri tonlamaya dönüştürme\n",
    "gray = cv2.cvtColor(img, cv2.COLOR_BGR2GRAY)\n",
    "\n",
    "# Resim üzerindeki kenarları bulma\n",
    "edges = cv2.Canny(gray, 50, 150, apertureSize=3)\n",
    "\n",
    "# r ve theta değerlerinden oluşan bir dizi döner\n",
    "lines = cv2.HoughLines(edges, 1, np.pi/180, 200)\n",
    "\n",
    "# for döngüsü tüm r ve theta değerleri için çalışır\n",
    "for r_theta in lines:\n",
    "\tarr = np.array(r_theta[0], dtype=np.float64)\n",
    "\tr, theta = arr\n",
    "\t# cosinüs theta değeri\n",
    "\ta = np.cos(theta)\n",
    "\n",
    "\t# sinüs theta değeri\n",
    "\tb = np.sin(theta)\n",
    "\n",
    "\t# x0 stores the value rcos(theta)\n",
    "\tx0 = a*r\n",
    "\n",
    "\t# y0 stores the value rsin(theta)\n",
    "\ty0 = b*r\n",
    "\n",
    "\t# x1 stores the rounded off value of (rcos(theta)-1000sin(theta))\n",
    "\tx1 = int(x0 + 1000*(-b))\n",
    "\n",
    "\t# y1 stores the rounded off value of (rsin(theta)+1000cos(theta))\n",
    "\ty1 = int(y0 + 1000*(a))\n",
    "\n",
    "\t# x2 stores the rounded off value of (rcos(theta)+1000sin(theta))\n",
    "\tx2 = int(x0 - 1000*(-b))\n",
    "\n",
    "\t# y2 stores the rounded off value of (rsin(theta)-1000cos(theta))\n",
    "\ty2 = int(y0 - 1000*(a))\n",
    "\n",
    "\t# cv2.line (x1,y1) to (x2,y2) çizgi çizer\n",
    "\t# (0,0,255) renk değeri burda kırmızı\n",
    "\n",
    "\tcv2.line(img, (x1, y1), (x2, y2), (0, 0, 255), 2)\n",
    "\n",
    "# çizgileri bulunan resmi kaydetme\n",
    "cv2.imwrite('images/linesDetected.jpg', img)\n"
   ]
  },
  {
   "cell_type": "code",
   "execution_count": 19,
   "id": "b3cb6349",
   "metadata": {},
   "outputs": [
    {
     "data": {
      "text/plain": [
       "True"
      ]
     },
     "execution_count": 19,
     "metadata": {},
     "output_type": "execute_result"
    }
   ],
   "source": [
    "import cv2\n",
    "import numpy as np\n",
    "\n",
    "# Read image\n",
    "image = cv2.imread('images/soduku.jpg')\n",
    "\n",
    "# Convert image to grayscale\n",
    "gray = cv2.cvtColor(image,cv2.COLOR_BGR2GRAY)\n",
    "\n",
    "# Use canny edge detection\n",
    "edges = cv2.Canny(gray,50,150,apertureSize=3)\n",
    "\n",
    "# Apply HoughLinesP method to\n",
    "# to directly obtain line end points\n",
    "lines_list =[]\n",
    "lines = cv2.HoughLinesP(\n",
    "\t\t\tedges, # Input edge image\n",
    "\t\t\t1, # Distance resolution in pixels\n",
    "\t\t\tnp.pi/180, # Angle resolution in radians\n",
    "\t\t\tthreshold=100, # Min number of votes for valid line\n",
    "\t\t\tminLineLength=5, # Min allowed length of line\n",
    "\t\t\tmaxLineGap=10 # Max allowed gap between line for joining them\n",
    "\t\t\t)\n",
    "\n",
    "# Iterate over points\n",
    "for points in lines:\n",
    "\t# Extracted points nested in the list\n",
    "\tx1,y1,x2,y2=points[0]\n",
    "\t# Draw the lines joing the points\n",
    "\t# On the original image\n",
    "\tcv2.line(image,(x1,y1),(x2,y2),(0,255,0),2)\n",
    "\t# Maintain a simples lookup list for points\n",
    "\tlines_list.append([(x1,y1),(x2,y2)])\n",
    "\t\n",
    "# Save the result image\n",
    "cv2.imwrite('images/detectedLines.png',image)\n"
   ]
  },
  {
   "cell_type": "code",
   "execution_count": 2,
   "id": "f396048c",
   "metadata": {},
   "outputs": [
    {
     "data": {
      "text/plain": [
       "True"
      ]
     },
     "execution_count": 2,
     "metadata": {},
     "output_type": "execute_result"
    }
   ],
   "source": [
    "import cv2\n",
    "import numpy as np\n",
    "\n",
    "img = cv2.imread('images/domino.png',0)\n",
    "img = cv2.medianBlur(img,5)\n",
    "cimg = cv2.cvtColor(img,cv2.COLOR_GRAY2BGR)\n",
    "circles = cv2.HoughCircles(img,cv2.HOUGH_GRADIENT,1,20,param1=50,param2=30,minRadius=0,maxRadius=0)\n",
    "circles = np.uint16(np.around(circles))\n",
    "for i in circles[0,:]:\n",
    "# draw the outer circle\n",
    "    cv2.circle(cimg,(i[0],i[1]),i[2],(0,255,0),2)\n",
    "# draw the center of the circle\n",
    "    cv2.circle(cimg,(i[0],i[1]),2,(0,0,255),3)\n",
    "\n",
    "    \n",
    "cv2.imwrite('images/detectedcircles.png',cimg)    "
   ]
  },
  {
   "cell_type": "code",
   "execution_count": null,
   "id": "7297a8d6",
   "metadata": {},
   "outputs": [],
   "source": []
  }
 ],
 "metadata": {
  "kernelspec": {
   "display_name": "Python 3 (ipykernel)",
   "language": "python",
   "name": "python3"
  },
  "language_info": {
   "codemirror_mode": {
    "name": "ipython",
    "version": 3
   },
   "file_extension": ".py",
   "mimetype": "text/x-python",
   "name": "python",
   "nbconvert_exporter": "python",
   "pygments_lexer": "ipython3",
   "version": "3.8.0"
  },
  "varInspector": {
   "cols": {
    "lenName": 16,
    "lenType": 16,
    "lenVar": 40
   },
   "kernels_config": {
    "python": {
     "delete_cmd_postfix": "",
     "delete_cmd_prefix": "del ",
     "library": "var_list.py",
     "varRefreshCmd": "print(var_dic_list())"
    },
    "r": {
     "delete_cmd_postfix": ") ",
     "delete_cmd_prefix": "rm(",
     "library": "var_list.r",
     "varRefreshCmd": "cat(var_dic_list()) "
    }
   },
   "types_to_exclude": [
    "module",
    "function",
    "builtin_function_or_method",
    "instance",
    "_Feature"
   ],
   "window_display": false
  }
 },
 "nbformat": 4,
 "nbformat_minor": 5
}
