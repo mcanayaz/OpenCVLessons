{
 "cells": [
  {
   "cell_type": "markdown",
   "id": "18547579",
   "metadata": {},
   "source": [
    "# Resim Okuma İşlemleri"
   ]
  },
  {
   "cell_type": "code",
   "execution_count": null,
   "id": "66f85212",
   "metadata": {},
   "outputs": [],
   "source": [
    "import numpy as np\n",
    "import cv2\n",
    "from matplotlib import pyplot as plt\n",
    "\n",
    "img=cv2.imread('images/Hillary.jpg',0) #resim okuma, 0 olduğunda gri-tonlamalı okur\n",
    "\n",
    "plt.imshow(img,cmap='gray', interpolation='bicubic')\n",
    "plt.xticks([]), plt.yticks([]) # X ve y eksenleri göstermemek için []  yapılır\n",
    "plt.show()"
   ]
  },
  {
   "cell_type": "code",
   "execution_count": null,
   "id": "4f4a1ebd",
   "metadata": {},
   "outputs": [],
   "source": [
    "import numpy as np\n",
    "import cv2\n",
    "\n",
    "#Resim oku, renkli resim\n",
    "img = cv2.imread('images/Hillary.jpg')\n",
    "\n",
    "#Resmi göster\n",
    "\n",
    "cv2.namedWindow('image', cv2.WINDOW_NORMAL) #Resmi istediğin gibi ölçekle cv2.WINDOW_NORMAL default=WINDOW_AUTOSIZE\n",
    "cv2.imshow('image',img)\n",
    "\n",
    "cv2.imwrite('images/HilariHanim.png',img) #farklı formatta kaydet\n",
    "\n",
    "\n",
    "\n",
    "#Herhangi bir tuşa basılana kadar bekle\n",
    "\n",
    "\n",
    "cv2.waitKey(0)\n",
    "cv2.destroyAllWindows()\n",
    "\n",
    "#Tüm pencereleri kapat\n"
   ]
  },
  {
   "cell_type": "code",
   "execution_count": 3,
   "id": "d0749987",
   "metadata": {},
   "outputs": [],
   "source": [
    "import numpy as np\n",
    "import cv2\n",
    "img = cv2.imread('images/HilariHanim.png',0)\n",
    "cv2.imshow('image',img)\n",
    "k = cv2.waitKey(0)\n",
    "if k == 27: # ESC tuşuna basana kadar bekler\n",
    "    cv2.destroyAllWindows()\n",
    "elif k == ord('s'): # 's' tuşuna basıldığında kaydeder.\n",
    "    cv2.imwrite('images/Hili.png',img)\n",
    "    cv2.destroyAllWindows()\n"
   ]
  },
  {
   "cell_type": "markdown",
   "id": "f0deeed1",
   "metadata": {},
   "source": [
    "# Video İşlemleri"
   ]
  },
  {
   "cell_type": "code",
   "execution_count": 4,
   "id": "30834c31",
   "metadata": {},
   "outputs": [],
   "source": [
    "import numpy as np\n",
    "import cv2\n",
    "\n",
    "cap=cv2.VideoCapture(0) # webcam okur. Birden fazla webcam varsa hangisini kullanmak istiyorsanız 0 yerine onu yazabilirsiniz \n",
    "\n",
    "while(True):\n",
    "    ##webcam okuma başlıyor\n",
    "    ret, frame=cap.read()\n",
    "    \n",
    "    #Gri tonlamaya dönüştür\n",
    "    gray= cv2.cvtColor(frame, cv2.COLOR_BGR2GRAY)\n",
    "    \n",
    "    # frame i göster\n",
    "    cv2.imshow('frame', gray)\n",
    "    if cv2.waitKey(1) & 0xFF == ord('q'):\n",
    "        break\n",
    "        \n",
    "# Herşey bittiğinde kamerayı serbest bırak\n",
    "cap.release()\n",
    "cv2.destroyAllWindows()"
   ]
  },
  {
   "cell_type": "code",
   "execution_count": 5,
   "id": "ccedd73c",
   "metadata": {},
   "outputs": [],
   "source": [
    "#video gösterimi\n",
    "\n",
    "import numpy as np\n",
    "import cv2\n",
    "\n",
    "cap=cv2.VideoCapture('images/walking.avi') # video ismi varsa dizini yazılır.\n",
    "\n",
    "while(True):\n",
    "    ##video yu okuyor\n",
    "    ret, frame=cap.read()\n",
    "    \n",
    "    #Gri tonlamaya dönüştür\n",
    "    gray= cv2.cvtColor(frame, cv2.COLOR_BGR2GRAY)\n",
    "    \n",
    "    # frame i göster\n",
    "    cv2.imshow('frame', gray)\n",
    "    if cv2.waitKey(1) & 0xFF == ord('q'):\n",
    "        break\n",
    "        \n",
    "# Herşey bittiğinde kamerayı serbest bırak\n",
    "cap.release()\n",
    "cv2.destroyAllWindows()"
   ]
  },
  {
   "cell_type": "code",
   "execution_count": 8,
   "id": "53a42bbb",
   "metadata": {},
   "outputs": [],
   "source": [
    "# video kaydetme\n",
    "\n",
    "import numpy as np\n",
    "import cv2\n",
    "\n",
    "cap=cv2.VideoCapture(0)\n",
    "\n",
    "fourcc=cv2.VideoWriter_fourcc(*'DIVX') # Video kayıt codecini belirliyoruz \n",
    "#cv2.VideoWriter_fourcc('M', 'J', 'P', 'G') bunuda kullanabiliriz\n",
    "out=cv2.VideoWriter('images/mqqqc.mp4',fourcc, 30.0,(640,480),1)  # kaydetme ismi, kodec'i fps=30, Çözünürlük(640,480), 1 renkli video kayıt\n",
    "\n",
    "while(cap.isOpened()):\n",
    "    ret, frame = cap.read()\n",
    "    if ret==True:\n",
    "        originalVideo= frame\n",
    "        flipVertical = cv2.flip(frame, 0)\n",
    "        flipHorizontal=cv2.flip(frame, 1)\n",
    "        flipBoth=cv2.flip(frame, -1)\n",
    "        \n",
    "        # Döndürülmüş frame i videouya yaz\n",
    "        out.write(frame)        \n",
    "        cv2.imshow('Original Video', originalVideo)\n",
    "        cv2.imshow('Dikey Cevrilmis Video', flipVertical)\n",
    "        cv2.imshow('Yatay Cevrilmis Video', flipHorizontal)\n",
    "        cv2.imshow('Her iki yone Cevrilmis', flipBoth)\n",
    "        \n",
    "        \n",
    "        if cv2.waitKey(1) & 0xFF == ord('q'):\n",
    "            break\n",
    "    else:\n",
    "        break\n",
    "\n",
    "cap.release()\n",
    "out.release()\n",
    "cv2.destroyAllWindows()\n"
   ]
  },
  {
   "cell_type": "code",
   "execution_count": null,
   "id": "f384c84a",
   "metadata": {},
   "outputs": [],
   "source": []
  }
 ],
 "metadata": {
  "kernelspec": {
   "display_name": "Python 3 (ipykernel)",
   "language": "python",
   "name": "python3"
  },
  "language_info": {
   "codemirror_mode": {
    "name": "ipython",
    "version": 3
   },
   "file_extension": ".py",
   "mimetype": "text/x-python",
   "name": "python",
   "nbconvert_exporter": "python",
   "pygments_lexer": "ipython3",
   "version": "3.8.0"
  }
 },
 "nbformat": 4,
 "nbformat_minor": 5
}
