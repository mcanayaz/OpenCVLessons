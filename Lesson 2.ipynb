{
 "cells": [
  {
   "cell_type": "markdown",
   "id": "04ff03da",
   "metadata": {},
   "source": [
    "# Çizim Yapma İşlemleri\n"
   ]
  },
  {
   "cell_type": "markdown",
   "id": "966aeb24",
   "metadata": {},
   "source": [
    "# Çizgi Çizme"
   ]
  },
  {
   "cell_type": "code",
   "execution_count": 1,
   "id": "9dbed391",
   "metadata": {},
   "outputs": [],
   "source": [
    "import numpy as np\n",
    "import cv2\n",
    "# Siyah bir resim oluştur.\n",
    "img = np.zeros((512,512,3), np.uint8)  #512,512 üç kanallı siyah bir resim\n",
    "\n",
    "# köşegene 5 px genişliğinde bir çizgi çek mavi renkli olsun(255,0,0)\n",
    "img = cv2.line(img,(0,0),(511,511),(255,255,0),5)\n",
    "#img = cv2.line(img,(100,100),(400,400),(255,255,0),15)\n",
    "\n",
    "cv2.imshow('Cizgi',img)\n",
    "\n",
    "cv2.waitKey(0)\n",
    "cv2.destroyAllWindows()\n"
   ]
  },
  {
   "cell_type": "markdown",
   "id": "d3cbdfe6",
   "metadata": {},
   "source": [
    "# Dikdörtgen Çizme"
   ]
  },
  {
   "cell_type": "code",
   "execution_count": 2,
   "id": "807153a4",
   "metadata": {},
   "outputs": [],
   "source": [
    "\n",
    "import numpy as np\n",
    "import cv2\n",
    "# Siyah bir resim oluştur.\n",
    "img = np.zeros((512,512,3), np.uint8)  #512,512 üç kanallı siyah bir resim\n",
    "\n",
    "\n",
    "\n",
    "img = cv2.rectangle(img,(384,0),(510,128),(0,255,0),3)\n",
    "\n",
    "\n",
    "cv2.imshow('Dikdortgen',img)\n",
    "\n",
    "cv2.waitKey(0)\n",
    "cv2.destroyAllWindows()\n",
    "\n"
   ]
  },
  {
   "cell_type": "markdown",
   "id": "4279dee5",
   "metadata": {},
   "source": [
    "# Çember çiz"
   ]
  },
  {
   "cell_type": "code",
   "execution_count": 3,
   "id": "8c3a6b25",
   "metadata": {},
   "outputs": [],
   "source": [
    "import numpy as np\n",
    "import cv2\n",
    "# Siyah bir resim oluştur.\n",
    "img = np.zeros((512,512,3), np.uint8)  #512,512 üç kanallı siyah bir resim\n",
    "\n",
    "\n",
    "\n",
    "img = cv2.circle(img,(447,63), 63, (0,0,255), -1) #-1 ise içi dolu, 1 ise içi boş\n",
    "\n",
    "\n",
    "cv2.imshow('Cember',img)\n",
    "\n",
    "cv2.waitKey(0)\n",
    "cv2.destroyAllWindows()\n",
    "\n",
    "\n",
    "\n"
   ]
  },
  {
   "cell_type": "markdown",
   "id": "35028db1",
   "metadata": {},
   "source": [
    "# Elips çiz"
   ]
  },
  {
   "cell_type": "code",
   "execution_count": 4,
   "id": "b27b8873",
   "metadata": {},
   "outputs": [],
   "source": [
    "#Elips çiz\n",
    "\n",
    "import numpy as np\n",
    "import cv2\n",
    "# Siyah bir resim oluştur.\n",
    "img = np.zeros((512,512,3), np.uint8)  #512,512 üç kanallı siyah bir resim\n",
    "\n",
    "\n",
    "\n",
    "img = cv2.ellipse(img,(256,256),(150,150),0,0,180,255,-1) \n",
    "\n",
    "#ilk parametre (x,y)\n",
    "#ikinci parametre aksis uzunluğu\n",
    "#Dönme açısı\n",
    "#Aralığı\n",
    "#255 rengi\n",
    "#-1 içi dolumu boşmu 1 ise boş\n",
    "\n",
    "\n",
    "cv2.imshow('Elips',img)\n",
    "\n",
    "cv2.waitKey(0)\n",
    "cv2.destroyAllWindows()\n",
    "\n",
    "\n"
   ]
  },
  {
   "cell_type": "markdown",
   "id": "0ff9a5f0",
   "metadata": {},
   "source": [
    "# Polygon çizme"
   ]
  },
  {
   "cell_type": "code",
   "execution_count": null,
   "id": "8a08f6d8",
   "metadata": {},
   "outputs": [],
   "source": [
    "\n",
    "import numpy as np\n",
    "import cv2\n",
    "# Siyah bir resim oluştur.\n",
    "img = np.zeros((512,512,3), np.uint8)  #512,512 üç kanallı siyah bir resim\n",
    "\n",
    "\n",
    "\n",
    "pts = np.array([[10,5],[20,30],[70,20],[50,10]], np.int32)\n",
    "pts = pts.reshape((-1,1,2))\n",
    "img = cv2.polylines(img,[pts],True,(0,255,255))\n",
    "\n",
    "\n",
    "cv2.imshow('Polygon',img)\n",
    "\n",
    "cv2.waitKey(0)\n",
    "cv2.destroyAllWindows()\n",
    "\n",
    "\n",
    "\n"
   ]
  },
  {
   "cell_type": "markdown",
   "id": "99388d61",
   "metadata": {},
   "source": [
    "# Yazı Yazma"
   ]
  },
  {
   "cell_type": "code",
   "execution_count": 5,
   "id": "a92a8c83",
   "metadata": {},
   "outputs": [],
   "source": [
    "# importing cv2\n",
    "import cv2\n",
    "    \n",
    "# path\n",
    "path = r'images/hand.jpg'\n",
    "    \n",
    "# Resim oku\n",
    "image = cv2.imread(path)\n",
    "    \n",
    "# Pencere başlığına vereceğin isim\n",
    "window_name = 'Image'\n",
    "  \n",
    "# font\n",
    "font = cv2.FONT_HERSHEY_SIMPLEX\n",
    "  \n",
    "# yazının bulunacağı yerin koordinatı\n",
    "org = (150,300)\n",
    "  \n",
    "# font ölçeği\n",
    "fontScale = 1\n",
    "   \n",
    "# font rengi\n",
    "color = (255, 0, 0)\n",
    "  \n",
    "# yazı kalınlığı \n",
    "thickness = 5\n",
    "   \n",
    "#  cv2.putText() method\n",
    "\n",
    "# İstenilen yazı\n",
    "\n",
    "yazi='OpenCV'\n",
    "\n",
    "image = cv2.putText(image, yazi, org, font, \n",
    "                   fontScale, color, thickness, cv2.LINE_AA)\n",
    "   \n",
    "# Resmi gösterme\n",
    "cv2.imshow(window_name, image)\n",
    "\n",
    "cv2.waitKey(0)\n",
    "cv2.destroyAllWindows()\n",
    "\n"
   ]
  },
  {
   "cell_type": "code",
   "execution_count": null,
   "id": "19b06468",
   "metadata": {},
   "outputs": [],
   "source": [
    "image.shape"
   ]
  },
  {
   "cell_type": "code",
   "execution_count": 6,
   "id": "906d6469",
   "metadata": {},
   "outputs": [],
   "source": [
    "\n",
    "\n",
    "\n",
    "# importing cv2\n",
    "import cv2\n",
    "\n",
    "# path\n",
    "path = r'images/hand.jpg'\n",
    "\n",
    "image = cv2.imread(path)\n",
    "\n",
    "window_name = 'Image'\n",
    "\n",
    "\n",
    "text = 'openCV'\n",
    "\n",
    "# font\n",
    "font = cv2.FONT_HERSHEY_SIMPLEX\n",
    "\n",
    "# org\n",
    "org = (150, 300)\n",
    "\n",
    "# fontScale\n",
    "fontScale = 1\n",
    "\n",
    "\n",
    "color = (0, 0, 255)\n",
    "\n",
    "\n",
    "thickness = 2\n",
    "\n",
    "\n",
    "image = cv2.putText(image, text, org, font, fontScale,color, thickness, cv2.LINE_AA, False)\n",
    "\n",
    "image = cv2.putText(image, text, org, font, fontScale,color, thickness, cv2.LINE_AA, True)\n",
    "\n",
    "\n",
    "cv2.imshow(window_name, image)\n",
    "\n",
    "\n",
    "cv2.waitKey(0)\n",
    "cv2.destroyAllWindows()\n"
   ]
  },
  {
   "cell_type": "code",
   "execution_count": null,
   "id": "7bbe89ae",
   "metadata": {},
   "outputs": [],
   "source": []
  }
 ],
 "metadata": {
  "kernelspec": {
   "display_name": "Python 3 (ipykernel)",
   "language": "python",
   "name": "python3"
  },
  "language_info": {
   "codemirror_mode": {
    "name": "ipython",
    "version": 3
   },
   "file_extension": ".py",
   "mimetype": "text/x-python",
   "name": "python",
   "nbconvert_exporter": "python",
   "pygments_lexer": "ipython3",
   "version": "3.8.0"
  }
 },
 "nbformat": 4,
 "nbformat_minor": 5
}
