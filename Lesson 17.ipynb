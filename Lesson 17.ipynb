{
 "cells": [
  {
   "cell_type": "code",
   "execution_count": 2,
   "id": "dfa24acc",
   "metadata": {},
   "outputs": [],
   "source": [
    "#ÖZellik Çıkarımı Devam\n",
    "#SIFT,..."
   ]
  },
  {
   "cell_type": "code",
   "execution_count": 3,
   "id": "2539413d",
   "metadata": {},
   "outputs": [],
   "source": [
    "import cv2\n",
    "import numpy as np\n",
    "img = cv2.imread('images/home.jpg')"
   ]
  },
  {
   "cell_type": "code",
   "execution_count": 6,
   "id": "894beb95",
   "metadata": {},
   "outputs": [
    {
     "data": {
      "text/plain": [
       "True"
      ]
     },
     "execution_count": 6,
     "metadata": {},
     "output_type": "execute_result"
    }
   ],
   "source": [
    "\n",
    "\n",
    "\n",
    "gray= cv2.cvtColor(img,cv2.COLOR_BGR2GRAY)\n",
    "\n",
    "# Applying SIFT detector\n",
    "sift = cv2.xfeatures2d.SIFT_create()\n",
    "kp = sift.detect(gray, None)\n",
    "\n",
    "# Marking the keypoint on the image using circles\n",
    "img=cv2.drawKeypoints(gray ,\n",
    "\t\t\t\t\tkp ,\n",
    "\t\t\t\t\timg ,\n",
    "\t\t\t\t\tflags=cv2.DRAW_MATCHES_FLAGS_DRAW_RICH_KEYPOINTS)\n",
    "\n",
    "cv2.imwrite('images/image-with-keypoints.jpg', img)\n"
   ]
  },
  {
   "cell_type": "code",
   "execution_count": 8,
   "id": "4705671f",
   "metadata": {},
   "outputs": [
    {
     "ename": "error",
     "evalue": "OpenCV(4.6.0) C:\\b\\abs_5e60wdx8td\\croots\\recipe\\opencv-suite_1663884119901\\work\\opencv_contrib-4.6.0\\modules\\xfeatures2d\\src\\surf.cpp:1029: error: (-213:The function/feature is not implemented) This algorithm is patented and is excluded in this configuration; Set OPENCV_ENABLE_NONFREE CMake option and rebuild the library in function 'cv::xfeatures2d::SURF::create'\n",
     "output_type": "error",
     "traceback": [
      "\u001b[1;31m---------------------------------------------------------------------------\u001b[0m",
      "\u001b[1;31merror\u001b[0m                                     Traceback (most recent call last)",
      "Cell \u001b[1;32mIn [8], line 4\u001b[0m\n\u001b[0;32m      1\u001b[0m img \u001b[38;5;241m=\u001b[39m cv2\u001b[38;5;241m.\u001b[39mimread(\u001b[38;5;124m'\u001b[39m\u001b[38;5;124mimages/home.jpg\u001b[39m\u001b[38;5;124m'\u001b[39m,\u001b[38;5;241m0\u001b[39m)\n\u001b[0;32m      2\u001b[0m \u001b[38;5;66;03m# Create SURF object. You can specify params here or later.\u001b[39;00m\n\u001b[0;32m      3\u001b[0m \u001b[38;5;66;03m# Here I set Hessian Threshold to 400\u001b[39;00m\n\u001b[1;32m----> 4\u001b[0m surf \u001b[38;5;241m=\u001b[39m \u001b[43mcv2\u001b[49m\u001b[38;5;241;43m.\u001b[39;49m\u001b[43mxfeatures2d\u001b[49m\u001b[38;5;241;43m.\u001b[39;49m\u001b[43mSURF_create\u001b[49m\u001b[43m(\u001b[49m\u001b[38;5;241;43m400\u001b[39;49m\u001b[43m)\u001b[49m\n\u001b[0;32m      5\u001b[0m \u001b[38;5;66;03m# Find keypoints and descriptors directly\u001b[39;00m\n\u001b[0;32m      6\u001b[0m kp, des \u001b[38;5;241m=\u001b[39m surf\u001b[38;5;241m.\u001b[39mdetectAndCompute(img,\u001b[38;5;28;01mNone\u001b[39;00m)\n",
      "\u001b[1;31merror\u001b[0m: OpenCV(4.6.0) C:\\b\\abs_5e60wdx8td\\croots\\recipe\\opencv-suite_1663884119901\\work\\opencv_contrib-4.6.0\\modules\\xfeatures2d\\src\\surf.cpp:1029: error: (-213:The function/feature is not implemented) This algorithm is patented and is excluded in this configuration; Set OPENCV_ENABLE_NONFREE CMake option and rebuild the library in function 'cv::xfeatures2d::SURF::create'\n"
     ]
    }
   ],
   "source": [
    "img = cv2.imread('images/home.jpg',0)\n",
    "# Create SURF object. You can specify params here or later.\n",
    "# Here I set Hessian Threshold to 400\n",
    "surf = cv2.xfeatures2d.SURF_create(400)\n",
    "# Find keypoints and descriptors directly\n",
    "kp, des = surf.detectAndCompute(img,None)"
   ]
  },
  {
   "cell_type": "code",
   "execution_count": null,
   "id": "8e9e2172",
   "metadata": {},
   "outputs": [],
   "source": []
  }
 ],
 "metadata": {
  "kernelspec": {
   "display_name": "Python 3 (ipykernel)",
   "language": "python",
   "name": "python3"
  },
  "language_info": {
   "codemirror_mode": {
    "name": "ipython",
    "version": 3
   },
   "file_extension": ".py",
   "mimetype": "text/x-python",
   "name": "python",
   "nbconvert_exporter": "python",
   "pygments_lexer": "ipython3",
   "version": "3.8.0"
  }
 },
 "nbformat": 4,
 "nbformat_minor": 5
}
