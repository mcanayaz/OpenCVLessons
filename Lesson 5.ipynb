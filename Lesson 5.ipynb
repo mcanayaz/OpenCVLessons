{
 "cells": [
  {
   "cell_type": "markdown",
   "id": "22b8c8a9",
   "metadata": {},
   "source": [
    "# Resimler üzerinde Aritmetik İşlemler"
   ]
  },
  {
   "cell_type": "code",
   "execution_count": 1,
   "id": "674155a8",
   "metadata": {},
   "outputs": [],
   "source": [
    "#Resimleri birbiri içersine gösterirken ağırlık değerine göre gösterme\n",
    "\n",
    "import cv2\n",
    "img1 = cv2.imread('images/shapes_donut.jpg')\n",
    "img2 = cv2.imread('images/shapes.jpg')\n",
    "dst = cv2.addWeighted(img1,0.7,img2,0.3,0)\n",
    "cv2.imshow('dst',dst)\n",
    "cv2.waitKey(0)\n",
    "cv2.destroyAllWindows()"
   ]
  },
  {
   "cell_type": "code",
   "execution_count": null,
   "id": "377cb76d",
   "metadata": {},
   "outputs": [],
   "source": [
    "#bitwise"
   ]
  },
  {
   "cell_type": "code",
   "execution_count": 2,
   "id": "4bfd7901",
   "metadata": {},
   "outputs": [],
   "source": [
    "import cv2\n",
    "#İki resim yükleme\n",
    "\n",
    "img1 = cv2.imread('images/shapes_donut.jpg')\n",
    "img2 = cv2.imread('images/shapes.jpg')\n",
    "\n",
    "# Sol tarafa logo koymak istediğimizi düşünelim\n",
    "rows,cols,channels = img2.shape\n",
    "roi = img1[0:rows, 0:cols ]\n",
    "# Now create a mask of logo and create its inverse mask also\n",
    "img2gray = cv2.cvtColor(img2,cv2.COLOR_BGR2GRAY)\n",
    "ret, mask = cv2.threshold(img2gray, 10, 255, cv2.THRESH_BINARY)\n",
    "mask_inv = cv2.bitwise_not(mask)\n",
    "# Now black-out the area of logo in ROI\n",
    "img1_bg = cv2.bitwise_and(roi,roi,mask = mask_inv)\n",
    "# Take only region of logo from logo image.\n",
    "img2_fg = cv2.bitwise_and(img2,img2,mask = mask)\n",
    "# Put logo in ROI and modify the main image\n",
    "dst = cv2.add(img1_bg,img2_fg)\n",
    "img1[0:rows, 0:cols ] = dst\n",
    "cv2.imshow('res',img1)\n",
    "cv2.waitKey(0)\n",
    "cv2.destroyAllWindows()"
   ]
  },
  {
   "cell_type": "code",
   "execution_count": 3,
   "id": "6becfa6f",
   "metadata": {},
   "outputs": [],
   "source": [
    "img2 = cv2.imread('images/opencv.jpg')\n",
    "cv2.imshow('image',img2)\n",
    "\n",
    "cv2.waitKey(0)\n",
    "cv2.destroyAllWindows()"
   ]
  },
  {
   "cell_type": "code",
   "execution_count": null,
   "id": "4ef8fb95",
   "metadata": {},
   "outputs": [],
   "source": []
  }
 ],
 "metadata": {
  "kernelspec": {
   "display_name": "Python 3 (ipykernel)",
   "language": "python",
   "name": "python3"
  },
  "language_info": {
   "codemirror_mode": {
    "name": "ipython",
    "version": 3
   },
   "file_extension": ".py",
   "mimetype": "text/x-python",
   "name": "python",
   "nbconvert_exporter": "python",
   "pygments_lexer": "ipython3",
   "version": "3.8.0"
  }
 },
 "nbformat": 4,
 "nbformat_minor": 5
}
