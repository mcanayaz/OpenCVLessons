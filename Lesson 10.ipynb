{
 "cells": [
  {
   "cell_type": "markdown",
   "id": "8668a8c2",
   "metadata": {},
   "source": [
    "# Morfolojik İşlemler"
   ]
  },
  {
   "cell_type": "code",
   "execution_count": null,
   "id": "9fbc824a",
   "metadata": {},
   "outputs": [],
   "source": [
    "#Erozyon\n",
    "\n",
    "import cv2\n",
    "import numpy as np\n",
    "img = cv2.imread('images/j.png',0)\n",
    "kernel = np.ones((5,5),np.uint8)\n",
    "erosion = cv2.erode(img,kernel,iterations = 1)\n",
    "\n",
    "cv2.imshow(\"img\",img)\n",
    "cv2.imshow(\"Erozyon\",erosion)\n",
    "cv2.imwrite(\"images/j_ince.png\",erosion)\n",
    "cv2.waitKey()\n",
    "cv2.destroyAllWindows()"
   ]
  },
  {
   "cell_type": "code",
   "execution_count": null,
   "id": "7465c4f7",
   "metadata": {},
   "outputs": [],
   "source": [
    "#Dilation\n",
    "\n",
    "import cv2\n",
    "import numpy as np\n",
    "img = cv2.imread('images/j_ince.png',0)\n",
    "kernel = np.ones((5,5),np.uint8)\n",
    "dilation = cv2.dilate(img,kernel,iterations = 1)\n",
    "\n",
    "cv2.imshow(\"img\",img)\n",
    "cv2.imshow(\"Dilation\",dilation)\n",
    "cv2.waitKey()\n",
    "cv2.destroyAllWindows()"
   ]
  },
  {
   "cell_type": "code",
   "execution_count": null,
   "id": "2d175e6f",
   "metadata": {},
   "outputs": [],
   "source": [
    "#Opening Açma\n",
    "#Erozyondan sonra Dilation Gürültü temizlemede faydalıdır\n",
    "import cv2\n",
    "import numpy as np\n",
    "img = cv2.imread('images/j_open.png',0)\n",
    "kernel = np.ones((5,5),np.uint8)\n",
    "opening = cv2.morphologyEx(img, cv2.MORPH_OPEN, kernel)\n",
    "\n",
    "cv2.imshow(\"img\",img)\n",
    "cv2.imshow(\"Open\",opening)\n",
    "cv2.waitKey()\n",
    "cv2.destroyAllWindows()\n",
    "\n"
   ]
  },
  {
   "cell_type": "code",
   "execution_count": null,
   "id": "a35ada27",
   "metadata": {},
   "outputs": [],
   "source": [
    "#,Kapama Closing\n",
    "# Dilation sonra Erozyondan \n",
    "import cv2\n",
    "import numpy as np\n",
    "img = cv2.imread('images/j_close.png',0)\n",
    "kernel = np.ones((5,5),np.uint8)\n",
    "closing = cv2.morphologyEx(img, cv2.MORPH_CLOSE, kernel)\n",
    "\n",
    "cv2.imshow(\"img\",img)\n",
    "cv2.imshow(\"Close\",closing)\n",
    "cv2.waitKey()\n",
    "cv2.destroyAllWindows()\n",
    "\n"
   ]
  },
  {
   "cell_type": "code",
   "execution_count": null,
   "id": "f2418dd2",
   "metadata": {},
   "outputs": [],
   "source": [
    "#Morfolojik Geçiş\n",
    "#Bir görüntünün genişlemesi ve aşınması arasındaki farktır.\n",
    "\n",
    "import cv2\n",
    "import numpy as np\n",
    "img = cv2.imread('images/j.png',0)\n",
    "kernel = np.ones((5,5),np.uint8)\n",
    "gradient = cv2.morphologyEx(img, cv2.MORPH_GRADIENT, kernel)\n",
    "cv2.imshow(\"img\",img)\n",
    "cv2.imshow(\"Gradyan\",gradient)\n",
    "\n",
    "cv2.waitKey()\n",
    "cv2.destroyAllWindows()\n",
    "\n",
    "#Aşağıda görüldüğü gibi bir nesnenin ana hatlarını bulmak için kullanışlıdır:"
   ]
  },
  {
   "cell_type": "code",
   "execution_count": null,
   "id": "0f21ea46",
   "metadata": {},
   "outputs": [],
   "source": [
    "#Top Hat\n",
    "#Bir giriş görüntüsü ile açılması arasındaki farktır.\n",
    "\n",
    "import cv2\n",
    "import numpy as np\n",
    "img = cv2.imread('images/j.png',0)\n",
    "kernel = np.ones((5,5),np.uint8)\n",
    "tophat = cv2.morphologyEx(img, cv2.MORPH_TOPHAT, kernel)\n",
    "cv2.imshow(\"img\",img)\n",
    "cv2.imshow(\"TopHat\",tophat)\n",
    "\n",
    "cv2.waitKey()\n",
    "cv2.destroyAllWindows()"
   ]
  },
  {
   "cell_type": "code",
   "execution_count": null,
   "id": "c42bd81c",
   "metadata": {},
   "outputs": [],
   "source": [
    "#Black Hat\n",
    "#Kapanış ve giriş görüntüsü arasındaki farktır.\n",
    "import cv2\n",
    "import numpy as np\n",
    "img = cv2.imread('images/j.png',0)\n",
    "kernel = np.ones((5,5),np.uint8)\n",
    "blackhat = cv2.morphologyEx(img, cv2.MORPH_BLACKHAT, kernel)\n",
    "cv2.imshow(\"img\",img)\n",
    "cv2.imshow(\"BlackHat\",blackhat)\n",
    "\n",
    "cv2.waitKey()\n",
    "cv2.destroyAllWindows()"
   ]
  },
  {
   "cell_type": "code",
   "execution_count": 10,
   "id": "783d2a3c",
   "metadata": {},
   "outputs": [],
   "source": [
    "from __future__ import print_function\n",
    "import cv2 as cv\n",
    "import numpy as np\n",
    "import argparse\n",
    "morph_size = 0\n",
    "max_operator = 4\n",
    "max_elem = 2\n",
    "max_kernel_size = 21\n",
    "title_trackbar_operator_type = 'Operator:\\n  0: Opening - 1: Closing 2: Gradient - 3: Top Hat  4: Black Hat'\n",
    "title_trackbar_element_type = 'Element:\\n 0: Rect - 1: Cross - 2: Ellipse'\n",
    "title_trackbar_kernel_size = 'Kernel size:\\n 2n + 1'\n",
    "title_window = 'Morphology Transformations Demo'\n",
    "morph_op_dic = {0: cv.MORPH_OPEN, 1: cv.MORPH_CLOSE, 2: cv.MORPH_GRADIENT, 3: cv.MORPH_TOPHAT, 4: cv.MORPH_BLACKHAT}\n",
    "def morphology_operations(val):\n",
    "    morph_operator = cv.getTrackbarPos(title_trackbar_operator_type, title_window)\n",
    "    morph_size = cv.getTrackbarPos(title_trackbar_kernel_size, title_window)\n",
    "    morph_elem = 0\n",
    "    val_type = cv.getTrackbarPos(title_trackbar_element_type, title_window)\n",
    "    if val_type == 0:\n",
    "        morph_elem = cv.MORPH_RECT\n",
    "    elif val_type == 1:\n",
    "        morph_elem = cv.MORPH_CROSS\n",
    "    elif val_type == 2:\n",
    "        morph_elem = cv.MORPH_ELLIPSE\n",
    "    element = cv.getStructuringElement(morph_elem, (2*morph_size + 1, 2*morph_size+1), (morph_size, morph_size))\n",
    "    operation = morph_op_dic[morph_operator]\n",
    "    dst = cv.morphologyEx(src, operation, element)\n",
    "    cv.imshow(title_window, dst)\n",
    "\n",
    "src = cv.imread(\"images/opencv.jpg\",0)\n",
    "\n",
    "cv.namedWindow(title_window,cv.WINDOW_NORMAL)\n",
    "cv.createTrackbar(title_trackbar_operator_type, title_window , 0, max_operator, morphology_operations)\n",
    "cv.createTrackbar(title_trackbar_element_type, title_window , 0, max_elem, morphology_operations)\n",
    "cv.createTrackbar(title_trackbar_kernel_size, title_window , 0, max_kernel_size, morphology_operations)\n",
    "morphology_operations(0)\n",
    "cv.waitKey()\n",
    "cv.destroyAllWindows()"
   ]
  },
  {
   "cell_type": "code",
   "execution_count": null,
   "id": "7300766d",
   "metadata": {},
   "outputs": [],
   "source": []
  }
 ],
 "metadata": {
  "kernelspec": {
   "display_name": "Python 3 (ipykernel)",
   "language": "python",
   "name": "python3"
  },
  "language_info": {
   "codemirror_mode": {
    "name": "ipython",
    "version": 3
   },
   "file_extension": ".py",
   "mimetype": "text/x-python",
   "name": "python",
   "nbconvert_exporter": "python",
   "pygments_lexer": "ipython3",
   "version": "3.8.0"
  }
 },
 "nbformat": 4,
 "nbformat_minor": 5
}
