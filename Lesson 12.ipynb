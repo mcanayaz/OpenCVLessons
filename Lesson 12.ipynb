{
 "cells": [
  {
   "cell_type": "code",
   "execution_count": 2,
   "id": "b3245176",
   "metadata": {},
   "outputs": [
    {
     "name": "stdout",
     "output_type": "stream",
     "text": [
      "{'m00': 4503.0, 'm10': 664599.6666666666, 'm01': 666512.0, 'm20': 100066439.83333333, 'm11': 98370780.66666666, 'm02': 101522757.83333333, 'm30': 15352180819.900002, 'm21': 14811396363.333334, 'm12': 14984389252.3, 'm03': 15876066320.0, 'mu20': 1977895.100167796, 'mu11': -6.148641645908356, 'mu02': 2868916.8064623475, 'mu30': -503925.003326416, 'mu21': 53975.2755305171, 'mu12': 604482.407225728, 'mu03': -120960.93012046814, 'nu20': 0.09754373044701989, 'nu11': -3.0323218014591584e-07, 'nu02': 0.1414861928829024, 'nu30': -0.00037034888369586827, 'nu21': 3.966797223386763e-05, 'nu12': 0.00044425139306856115, 'nu03': -8.889764378671183e-05}\n"
     ]
    }
   ],
   "source": [
    "#Contours\n",
    "\n",
    "import cv2\n",
    "img=cv2.imread('images/star.jpg',0)\n",
    "ret,thresh=cv2.threshold(img,127,255,0)\n",
    "contours, hierarchy=cv2.findContours(thresh,1,2)\n",
    "cnt=contours[0]\n",
    "M=cv2.moments(cnt)\n",
    "\n",
    "print(M)"
   ]
  },
  {
   "cell_type": "code",
   "execution_count": 3,
   "id": "59344a9b",
   "metadata": {},
   "outputs": [],
   "source": [
    "cx = int(M['m10']/M['m00']) #Momentler kullanılarak merkez bulunabilir\n",
    "cy = int(M['m01']/M['m00'])"
   ]
  },
  {
   "cell_type": "code",
   "execution_count": 4,
   "id": "3da9a28b",
   "metadata": {},
   "outputs": [
    {
     "data": {
      "text/plain": [
       "(147, 148)"
      ]
     },
     "execution_count": 4,
     "metadata": {},
     "output_type": "execute_result"
    }
   ],
   "source": [
    "cx,cy"
   ]
  },
  {
   "cell_type": "code",
   "execution_count": 5,
   "id": "6d0df5c8",
   "metadata": {},
   "outputs": [
    {
     "data": {
      "text/plain": [
       "4503.0"
      ]
     },
     "execution_count": 5,
     "metadata": {},
     "output_type": "execute_result"
    }
   ],
   "source": [
    "area=cv2.contourArea(cnt)\n",
    "area"
   ]
  },
  {
   "cell_type": "code",
   "execution_count": 6,
   "id": "50923d01",
   "metadata": {},
   "outputs": [
    {
     "data": {
      "text/plain": [
       "4503.0"
      ]
     },
     "execution_count": 6,
     "metadata": {},
     "output_type": "execute_result"
    }
   ],
   "source": [
    "M['m00']"
   ]
  },
  {
   "cell_type": "code",
   "execution_count": 7,
   "id": "271622f8",
   "metadata": {},
   "outputs": [],
   "source": [
    "perimeter = cv2.arcLength(cnt,True) #Konturun kapalımı yoksa sadece bir eğrimi olacağı bilgisi için kullanılır"
   ]
  },
  {
   "cell_type": "code",
   "execution_count": 8,
   "id": "cd80cc1b",
   "metadata": {},
   "outputs": [
    {
     "data": {
      "text/plain": [
       "444.19090580940247"
      ]
     },
     "execution_count": 8,
     "metadata": {},
     "output_type": "execute_result"
    }
   ],
   "source": [
    "perimeter"
   ]
  },
  {
   "cell_type": "code",
   "execution_count": 9,
   "id": "556be056",
   "metadata": {},
   "outputs": [],
   "source": [
    "epsilon = 0.1*cv2.arcLength(cnt,True)\n",
    "approx = cv2.approxPolyDP(cnt,epsilon,True)"
   ]
  },
  {
   "cell_type": "code",
   "execution_count": 10,
   "id": "51f3aa2d",
   "metadata": {},
   "outputs": [
    {
     "data": {
      "text/plain": [
       "(44.41909058094025,\n",
       " array([[[147,  78]],\n",
       " \n",
       "        [[ 88, 149]],\n",
       " \n",
       "        [[149, 218]],\n",
       " \n",
       "        [[207, 147]]], dtype=int32))"
      ]
     },
     "execution_count": 10,
     "metadata": {},
     "output_type": "execute_result"
    }
   ],
   "source": [
    "epsilon, approx\n",
    "\n",
    "#https://opencv24-python-tutorials.readthedocs.io/en/latest/py_tutorials/py_imgproc/py_contours/py_contour_features/py_contour_features.html"
   ]
  },
  {
   "cell_type": "code",
   "execution_count": null,
   "id": "7aebdbd9",
   "metadata": {},
   "outputs": [],
   "source": [
    "#ConvexHull "
   ]
  },
  {
   "cell_type": "code",
   "execution_count": 11,
   "id": "64adb7c5",
   "metadata": {},
   "outputs": [],
   "source": [
    "import cv2\n",
    "import numpy as np\n",
    "img = cv2.imread('images/star.jpg')\n",
    "img_gray = cv2.cvtColor(img,cv2.COLOR_BGR2GRAY)\n",
    "ret, thresh = cv2.threshold(img_gray, 127, 255,0)\n",
    "contours,hierarchy = cv2.findContours(thresh,2,1)\n",
    "cnt = contours[0]\n",
    "hull = cv2.convexHull(cnt,returnPoints = False)\n",
    "defects = cv2.convexityDefects(cnt,hull)\n",
    "for i in range(defects.shape[0]):\n",
    "    s,e,f,d = defects[i,0]\n",
    "    start = tuple(cnt[s][0])\n",
    "    end = tuple(cnt[e][0])\n",
    "    far = tuple(cnt[f][0])\n",
    "    cv2.line(img,start,end,[0,255,0],2)\n",
    "    cv2.circle(img,far,5,[0,0,255],-1)\n",
    "    \n",
    "cv2.imshow('img',img)\n",
    "cv2.waitKey(0)\n",
    "cv2.destroyAllWindows()"
   ]
  },
  {
   "cell_type": "code",
   "execution_count": null,
   "id": "ff925f53",
   "metadata": {},
   "outputs": [],
   "source": []
  }
 ],
 "metadata": {
  "kernelspec": {
   "display_name": "Python 3 (ipykernel)",
   "language": "python",
   "name": "python3"
  },
  "language_info": {
   "codemirror_mode": {
    "name": "ipython",
    "version": 3
   },
   "file_extension": ".py",
   "mimetype": "text/x-python",
   "name": "python",
   "nbconvert_exporter": "python",
   "pygments_lexer": "ipython3",
   "version": "3.8.0"
  }
 },
 "nbformat": 4,
 "nbformat_minor": 5
}
